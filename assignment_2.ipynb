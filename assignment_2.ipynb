{
 "cells": [
  {
   "cell_type": "code",
   "execution_count": 2,
   "metadata": {
    "id": "mEQ49SlC18a3"
   },
   "outputs": [],
   "source": [
    "import numpy as np\n",
    "import matplotlib.pyplot as plt\n",
    "import time "
   ]
  },
  {
   "cell_type": "code",
   "execution_count": 3,
   "metadata": {
    "colab": {
     "base_uri": "https://localhost:8080/"
    },
    "id": "QjMGOXxm2Arg",
    "outputId": "7f243216-aecb-4836-e887-e1784d0cd565"
   },
   "outputs": [
    {
     "name": "stdout",
     "output_type": "stream",
     "text": [
      "-1.5 -1.366\n"
     ]
    }
   ],
   "source": [
    "def gradient_descent(gradient,init_,learn_rate, n_iter=50, tol=1e-06):\n",
    "    x = init_\n",
    "    for _ in range(n_iter):\n",
    "        delta = -learn_rate*gradient(x)\n",
    "        if np.all(np.abs(delta) <= tol):\n",
    "            break\n",
    "        x += delta\n",
    "    return round(x*1000)/1000\n",
    "\n",
    "\n",
    "#Minimia of eqation x^2+3x+4\n",
    "c = gradient_descent(gradient=lambda v: 2 * v + 3, init_=4.0, learn_rate=0.2)      \n",
    "\n",
    "#Minima of eqaution x^4-3x^2+2x\n",
    "d = gradient_descent(gradient=lambda v: 4*(v**3)-6*v+2 , init_=-1, n_iter = 100,learn_rate=0.02)\n",
    "\n",
    "print(c,d)"
   ]
  },
  {
   "cell_type": "markdown",
   "metadata": {
    "id": "bbtg5ZuP70E9"
   },
   "source": [
    "Q1 a) i) The minima point is -1.5 <br>\n",
    "Q1 a) ii) The minima point is -1.366 "
   ]
  },
  {
   "cell_type": "code",
   "execution_count": 4,
   "metadata": {
    "id": "ya0fRIQov_tI"
   },
   "outputs": [],
   "source": [
    "#Gerating Random data\n",
    "np.random.seed (0)\n",
    "x_test = 2.5*np.random.randn(10000) + 1.5 \n",
    "res = 1.5*np.random.randn(10000) \n",
    "y_test = 2 + 0.3*x_test + res"
   ]
  },
  {
   "cell_type": "markdown",
   "metadata": {
    "id": "toj_B51DNLsl"
   },
   "source": [
    "#### Q1 b)"
   ]
  },
  {
   "cell_type": "code",
   "execution_count": 6,
   "metadata": {
    "colab": {
     "base_uri": "https://localhost:8080/"
    },
    "id": "bdXAa6kP3egl",
    "outputId": "af0592d6-b000-4d4f-b003-e1f6433cf949"
   },
   "outputs": [
    {
     "name": "stdout",
     "output_type": "stream",
     "text": [
      "[0.2953 2.0232]\n"
     ]
    }
   ],
   "source": [
    "#Gradeint funtion for linear regression\n",
    "def gradient_linear(x,y,a,b):\n",
    "    n = len(x)\n",
    "    z = a*x+b \n",
    "    #Gradient for a\n",
    "    a = (-2/n)*sum(x*(y-z))\n",
    "    #Gradient for b\n",
    "    b = (-2/n)*sum(y-z)\n",
    "    return np.array([a,b])\n",
    "\n",
    "\n",
    "def gradient_descent(gradient,init_,learn_rate,x_test,y_test, n_iter=50, tol=1e-6):\n",
    "    x = init_\n",
    "    for _ in range(n_iter):\n",
    "        delta = -learn_rate*gradient(x_test,y_test,x[0],x[1])\n",
    "        if np.all(np.abs(delta) <= tol):\n",
    "            break\n",
    "        x += delta\n",
    "    return np.round(x,4)\n",
    "\n",
    "init = np.array([0,0]).astype(float)\n",
    "print(gradient_descent(gradient_linear,init,0.01,x_test,y_test,n_iter=1000))"
   ]
  },
  {
   "cell_type": "markdown",
   "metadata": {
    "id": "G5e04bzf-zfB"
   },
   "source": [
    "Q1 c) The Value of a = 0.2953 and Value of b = 2.023 "
   ]
  },
  {
   "cell_type": "code",
   "execution_count": 8,
   "metadata": {
    "colab": {
     "base_uri": "https://localhost:8080/"
    },
    "id": "wALxbDNyOAPY",
    "outputId": "5556524b-6d9b-4e82-b6db-2af59d8df452"
   },
   "outputs": [
    {
     "name": "stdout",
     "output_type": "stream",
     "text": [
      "[0.3   2.016]\n"
     ]
    }
   ],
   "source": [
    "def stochastic_gradient_descent(gradient,init_,learn_rate,x_data,y_data, n_iter=50, batch=100,tol=1e-6):\n",
    "    x = init_\n",
    "    for _ in range(n_iter):\n",
    "        #randomly select one batch\n",
    "        select = np.random.randint(batch)\n",
    "        batch_1 = x_data[select]\n",
    "        batch_2 = y_data[select]  \n",
    "        delta = -learn_rate*gradient(batch_1,batch_2,x[0],x[1])\n",
    "        if np.all(np.abs(delta) <= tol):\n",
    "            break\n",
    "        x += delta\n",
    "    return np.round(x,3)\n",
    "\n",
    "#The batch size of each batch is 250 \n",
    "number_of_batch = 40\n",
    "x_batch = np.split(x_test,number_of_batch)\n",
    "y_batch = np.split(y_test,number_of_batch)\n",
    "\n",
    "#Calculating values using mini batch stochastic gradient desent \n",
    "init = np.array([0,0]).astype(float)\n",
    "print(stochastic_gradient_descent(gradient_linear,init,0.001,x_batch,y_batch,n_iter=4000,batch = number_of_batch))"
   ]
  },
  {
   "cell_type": "markdown",
   "metadata": {
    "id": "-pdSxVE7DRi3"
   },
   "source": [
    "Q1 d) Value of a ~ 0.29 and b ~ 2.01 for minibatch stochastic gradient descent  with batch-size of 250\n"
   ]
  },
  {
   "cell_type": "code",
   "execution_count": 10,
   "metadata": {
    "colab": {
     "base_uri": "https://localhost:8080/"
    },
    "id": "7dnZ8lUwFlDP",
    "outputId": "f88f240f-6325-40cd-8538-e6f6a52f4e9e"
   },
   "outputs": [
    {
     "name": "stdout",
     "output_type": "stream",
     "text": [
      "SGD 0.05103135108947754\n",
      "GD 18.241029024124146\n"
     ]
    }
   ],
   "source": [
    "#stores the output and size of each batch\n",
    "size = []\n",
    "output = []\n",
    "#stores time required for each batch size\n",
    "req_time = []\n",
    "\n",
    "temp = len(x_test)\n",
    "x_batch = np.split(x_test,temp)\n",
    "y_batch = np.split(y_test,temp)\n",
    "\n",
    "#Stochastic gradient descent\n",
    "init = np.array([0,0]).astype(float)\n",
    "\n",
    "start = time.time()\n",
    "output.append(stochastic_gradient_descent(gradient_linear,init,0.001,x_batch,y_batch,n_iter=15000,batch = temp))\n",
    "end = time.time()\n",
    "\n",
    "req_time.append(end-start)\n",
    "size.append(1)\n",
    "print('SGD',end-start)\n",
    "\n",
    "#Gradient Descent\n",
    "init = np.array([0,0]).astype(float)\n",
    "x_batch = np.split(x_test,1)    \n",
    "y_batch = np.split(y_test,1)\n",
    "start = time.time()\n",
    "output.append(stochastic_gradient_descent(gradient_linear,init,0.001,x_batch,y_batch,n_iter=15000,batch = 1))\n",
    "end = time.time()\n",
    "print('GD',end-start)"
   ]
  },
  {
   "cell_type": "markdown",
   "metadata": {
    "id": "9PJaPFsLL3WB"
   },
   "source": [
    "Time for stochastic gradeint descent is samller than gradeint descent "
   ]
  },
  {
   "cell_type": "code",
   "execution_count": 11,
   "metadata": {
    "id": "HnhiSgQfDoMu"
   },
   "outputs": [],
   "source": [
    "#calulating time and mse for each batch-size\n",
    "for i in range(0,2000,50):\n",
    "    init = np.array([0,0]).astype(float)\n",
    "    try:\n",
    "        number_of_batch = int(len(x_test)/i)\n",
    "        x_batch = np.split(x_test,number_of_batch)    \n",
    "        y_batch = np.split(y_test,number_of_batch)\n",
    "    except:\n",
    "        continue\n",
    "    #print(len(x_batch))\n",
    "    start = time.time()\n",
    "    output.append(stochastic_gradient_descent(gradient_linear,init,0.001,x_batch,y_batch,n_iter=15000,batch = number_of_batch))\n",
    "    size.append(i)\n",
    "    end = time.time()\n",
    "    req_time.append(end-start)"
   ]
  },
  {
   "cell_type": "code",
   "execution_count": 12,
   "metadata": {
    "colab": {
     "base_uri": "https://localhost:8080/"
    },
    "id": "DpytHrFMGAZU",
    "outputId": "2b986c1f-9788-4bcf-b9cf-b7eb4f20bb5d"
   },
   "outputs": [
    {
     "name": "stdout",
     "output_type": "stream",
     "text": [
      "Batch size -  1 |Value of a , b - 0.26 1.943 |MSE -  2.243653157691015 |Time -  0.05103135108947754\n",
      "Batch size -  50 |Value of a , b - 0.295 2.023 |MSE -  2.2187221927113865 |Time -  0.7008380889892578\n",
      "Batch size -  100 |Value of a , b - 0.296 2.03 |MSE -  2.2187831661516815 |Time -  0.9458296298980713\n",
      "Batch size -  200 |Value of a , b - 0.288 2.021 |MSE -  2.2192146433600657 |Time -  1.415416955947876\n",
      "Batch size -  250 |Value of a , b - 0.297 2.02 |MSE -  2.2187389555239108 |Time -  1.7471368312835693\n",
      "Batch size -  400 |Value of a , b - 0.293 2.027 |MSE -  2.218753891450322 |Time -  2.4499435424804688\n",
      "Batch size -  500 |Value of a , b - 0.295 2.022 |MSE -  2.218724695885996 |Time -  2.9453635215759277\n",
      "Batch size -  600 |Value of a , b - 0.29 2.023 |MSE -  2.2189577673684893 |Time -  3.932192325592041\n",
      "Batch size -  950 |Value of a , b - 0.294 2.024 |MSE -  2.218733059453963 |Time -  5.720537900924683\n",
      "Batch size -  1000 |Value of a , b - 0.297 2.022 |MSE -  2.218739580500268 |Time -  5.663480520248413\n",
      "Batch size -  1150 |Value of a , b - 0.296 2.022 |MSE -  2.2187239288974236 |Time -  6.791171550750732\n",
      "Batch size -  1200 |Value of a , b - 0.298 2.024 |MSE -  2.2187860913336803 |Time -  1.5228078365325928\n",
      "Batch size -  1250 |Value of a , b - 0.3 2.0 |MSE -  2.219126255244878 |Time -  6.926034688949585\n",
      "Batch size -  1700 |Value of a , b - 0.295 2.022 |MSE -  2.218724695885996 |Time -  10.6651930809021\n",
      "Batch size -  1750 |Value of a , b - 0.296 2.023 |MSE -  2.218724333554198 |Time -  10.786569356918335\n",
      "Batch size -  1800 |Value of a , b - 0.295 2.023 |MSE -  2.2187221927113865 |Time -  10.717559814453125\n",
      "Batch size -  1850 |Value of a , b - 0.296 2.023 |MSE -  2.218724333554198 |Time -  10.843124866485596\n",
      "Batch size -  1900 |Value of a , b - 0.295 2.022 |MSE -  2.218724695885996 |Time -  10.895140409469604\n",
      "Batch size -  1950 |Value of a , b - 0.295 2.023 |MSE -  2.2187221927113865 |Time -  10.660855054855347\n",
      "\n",
      "Batch with minimum mse  2.2187221927113865 50\n"
     ]
    }
   ],
   "source": [
    "#For calculating MSE\n",
    "def MSE(x,y,a,b):\n",
    "    y_pred = x*a+b\n",
    "    m = len(x)\n",
    "    mse = (1/m)*(sum((y-y_pred)**2))\n",
    "    return mse\n",
    "\n",
    "min = 100\n",
    "for i in range(0,len(size)):\n",
    "    current = MSE(x_test,y_test,output[i][0],output[i][1])\n",
    "    if min>current:\n",
    "        min = current\n",
    "        number = size[i]\n",
    "    print('Batch size - ', size[i],'|Value of a , b -',output[i][0],output[i][1],'|MSE - ', current,'|Time - ',req_time[i])\n",
    "print('\\nBatch with minimum mse ',min,number)"
   ]
  },
  {
   "cell_type": "markdown",
   "metadata": {
    "id": "TFtAsNr_Phey"
   },
   "source": [
    "Q1 e) With respect to time Gradient Descent is slower than Stochastic Gradient Descent <br>\n",
    "i.e. Time required - GD > Mini-batch SGD > SGD\n",
    "<br> The GD is slower as it take all the data input for each iteration and then update the value of parameters whereas in SGD it take only one data and then update the value of paramenters and the computational complexity higher for GD and lower for SGD for each iteration<br>\n",
    "In terms of MSE there is no large significant difference but for the optimal batch size we can choose the smaller batch size which gives us similar result in less time"
   ]
  },
  {
   "cell_type": "markdown",
   "metadata": {
    "id": "QIjYFOPghby0"
   },
   "source": [
    "###Q2 a)\n",
    "\n",
    "$\\text{Using Conditional Probabiltiy} $ <br><br>\n",
    "$P(X|Y) = \\frac{P(X\\cap Y)}{P(X)} $ <br><br>\n",
    "$P(X \\cap Y) = P(X|Y)*P(X)$ <br><br>\n",
    "$ \\text{ Let us consider $X$ = Someone  Fever and $Y$ = Someone has Cold }$<br><br>\n",
    "$P(\\text{Someone has cold  $\\cap$ Someone has Fever }) = P(\\text{Someone has Fever}|\\text{Someone has Cold})* P(\\text{Someone has Cold})$<br>\n",
    "<br>\n",
    "$\\text{From bayesian network we know that }$<br><br>\n",
    "$P(X|Y) = 0.307 \\text{  and  } P(X) = 0.02$<br><br>\n",
    "$P(\\text{Someone has cold  $\\cap$ Someone has Fever }) =P(X \\cap Y) = 0.307*0.02 = 0.00614 $"
   ]
  },
  {
   "cell_type": "markdown",
   "metadata": {
    "id": "4E-BYdB_s5Gf"
   },
   "source": [
    "###Q2 b\n",
    "\n",
    "$\\text{To calulate $P$(Cold|Cough)}\\\\\\text{First we need to calculate $P$(Cough)}$ <br><br>\n",
    "$\\text{To calulate $P$(Cough) we need to calculate $P$(Lung Disease) and $P$(Not Lung Disease)}$<br><br>\n",
    "$\\begin{equation}\\begin{split}P(\\text{Lung Disease}) & = P(\\text{Lung Disease|Smokes}) * P(\\text{Smokes}) + P(\\text{Lung Disease|Not Smokes})*P(\\text{Not Smokes})\\\\ & = 0.1009*0.2 + 0.001*0.8 \\\\ & = 0.02098\\end{split}\\end{equation}$ <br><br>\n",
    "\n",
    "$\\begin{equation}\\begin{split}P(\\text{Not Lung Disease}) & =1 - P(\\text{Lung Disease})\\\\ & = 1 - 0.02098\\\\ & = 0.97902\\end{split}\\end{equation}$ \n",
    "<br><br>\n",
    "\n",
    "$\\begin{equation}\\begin{split}P(\\text{Cough}) & = P(\\text{Cough | Cold $\\cap$ Lung Disease }) * P(\\text{Cold $\\cap$ Lung Disease }) + P(\\text{Cough | Cold $\\cap$ Not Lung Disease }) * P(\\text{Cold $\\cap$ Not Lung Disease })+ P(\\text{Cough | Not Cold $\\cap$ Lung Disease }) * P(\\text{Not Cold $\\cap$ Lung Disease } + P(\\text{Cough | Not Cold $\\cap$ Not Lung Disease }) * P(\\text{Not Cold $\\cap$ Not Lung Disease }))\n",
    "+\\\\ & =(0.7525* 0.02098* 0.02) + (0.505* 0.97902 *0.02) +(0.505* 0.02098 *0.98) +(0.01* 0.97902 * 0.98) \\\\ & = 0.030181249\\end{split}\\end{equation}$<br><br>\n",
    "\n",
    "$\\begin{equation}\\begin{split}P(\\text{Cough | Cold}) & = P(\\text{Cough|Lung Diesease $\\cap$ Cold}) * P(\\text{Lung Disease}) + P(\\text{Cough | Not Lung Disease $\\cap$ Cold})*P(\\text{Not Lung Disease})\\\\ & = 0.7525*0.02098 + 0.505*0.97902 \\\\ & = 0.51019225\\end{split}\\end{equation}$<br><br><br><br>\n",
    "$\\text{Using Bayes Rules}$<br><br>\n",
    "$\\begin{equation}\\begin{split}P(\\text{Cold | Cough}) & = \\frac{P(\\text{Cough | Cold})* P(\\text{Cold})}{P(\\text{Cough})}  \\\\& = \\frac{0.51019225*0.02}{0.030181249} \\\\ & =0.3380857764\\end{split}\\end{equation}$"
   ]
  },
  {
   "cell_type": "markdown",
   "metadata": {
    "id": "8ed5OFGdWQ29"
   },
   "source": [
    "### Q3\n",
    "<br>\n",
    "$\\text{In Multinomial distribution} \\\\ \\displaystyle f(x_1,x_2,x_3,...,x_k |p_1,p_2,...,p_k) = \\frac{n!}{\\prod_{i=1}^{k}x_i}  \\prod_{i=1}^{k}p_i^{x_i} \\\\\n",
    "\\text{where} \\sum_{j=1}^{k}x_i = n \\text{ and } \\sum_{i=1}^{k}p_i = 1 $\n",
    "\n",
    "<br>\n",
    "$\\text{Maximum Likelihood Estimation}$<br> \n",
    "$\\text{The log likelihood is}\\\\\n",
    "\\begin{align}\n",
    "l(\\text{p}) = \\log L(\\text{p}) \n",
    "&= \\log n! + \\log \\prod_{i=1}^k \\frac{p_i^{x_i}}{x_i!} \\\\\n",
    "&= \\log n! + \\sum_{i=1}^k \\log \\frac{p_i^{x_i}}{x_i!} \\\\\n",
    "&= \\log n! + \\sum_{i=1}^k x_i \\log p_i - \\sum_{i=1}^k \\log x_i!\n",
    "\\end{align}$<br>\n",
    "\n",
    "$ \\text{Constraint : }\\sum_{j=1}^k p_j =1\\\\\n",
    "\\text{As we have constraint we will use Lagrange multipliers} \\\\\n",
    "\\begin{align}\n",
    "l'(p,\\lambda) &= l(p) + \\lambda\\bigg(1 - \\sum_{i=1}^k p_i\\bigg)\n",
    "\\end{align}$<br><br>\n",
    "$\\text{By posing derivative =0}\\\\\n",
    "\\begin{align}\n",
    "\\frac{\\partial}{\\partial p_i} l'(p,\\lambda) \n",
    "= \\frac{\\partial}{\\partial p_i} l(p)\n",
    "+ \\frac{\\partial}{\\partial p_i} \\lambda\\bigg(1 - \\sum_{i=1}^k p_i\\bigg) &= 0\\\\\n",
    " \\frac{\\partial}{\\partial p_i} \\sum_{i=1}^k x_i \\log p_i\n",
    "- \\lambda \\frac{\\partial}{\\partial p_i} \\sum_{i=1}^k p_i &= 0 \\\\\n",
    "\\frac{x_i}{p_i}- \\lambda  &= 0  \\\\\n",
    "p_i &= \\frac{x_i}{\\lambda}  \\quad \\quad \\quad (1)\\\\\n",
    "\\sum_{i=1}^k p_i &= \\sum_{i=1}^k \\frac{x_i}{\\lambda} \\\\\n",
    "\\text{We know that  } \\sum_{i=1}^k p_i & =1\\\\\n",
    "1 &= \\frac{1}{\\lambda} \\sum_{i=1}^k x_i \\\\\n",
    "\\lambda &= n \\quad \\quad \\quad (2)\\\\\n",
    " \\quad \\quad \\quad \\text{ From 1 and 2 } \\\\\n",
    "p_i &= \\frac{x_i}{n}  \\\\ \n",
    "\\text{p}& = \\bigg(\n",
    "\\frac{x_1}{n},\n",
    "...,\n",
    "\\frac{x_k}{n}\n",
    "\\bigg)\n",
    "\\end{align}$\n",
    "\n",
    "\n"
   ]
  },
  {
   "cell_type": "code",
   "execution_count": null,
   "metadata": {},
   "outputs": [],
   "source": []
  }
 ],
 "metadata": {
  "colab": {
   "collapsed_sections": [
    "QIjYFOPghby0",
    "4E-BYdB_s5Gf",
    "8ed5OFGdWQ29"
   ],
   "name": "ok122.ipynb",
   "provenance": []
  },
  "kernelspec": {
   "display_name": "Python 3",
   "language": "python",
   "name": "python3"
  },
  "language_info": {
   "codemirror_mode": {
    "name": "ipython",
    "version": 3
   },
   "file_extension": ".py",
   "mimetype": "text/x-python",
   "name": "python",
   "nbconvert_exporter": "python",
   "pygments_lexer": "ipython3",
   "version": "3.8.8"
  }
 },
 "nbformat": 4,
 "nbformat_minor": 1
}
